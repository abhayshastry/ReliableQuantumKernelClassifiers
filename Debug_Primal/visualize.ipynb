{
 "cells": [
  {
   "cell_type": "code",
   "execution_count": 3,
   "id": "1508e125",
   "metadata": {},
   "outputs": [],
   "source": [
    "import numpy as np\n",
    "import pandas as pd\n",
    "import matplotlib.pyplot as plt\n",
    "import seaborn as sns\n",
    "import pickle"
   ]
  },
  {
   "cell_type": "code",
   "execution_count": 14,
   "id": "e677ef4e",
   "metadata": {},
   "outputs": [],
   "source": [
    "\n",
    "with open('data.pkl', 'rb') as f:\n",
    "    data = pickle.load(f)\n",
    "    data = pd.DataFrame.from_dict(data, orient = 'index') \n",
    "    data.index = pd.MultiIndex.from_tuples(data.index,  names=['kernel, dataset', 'm', 'delta_1', 'delta_2', 'C', 'shots', 'method', 'train', 'nTrials'] )"
   ]
  },
  {
   "cell_type": "code",
   "execution_count": 21,
   "id": "fab58cc0",
   "metadata": {},
   "outputs": [
    {
     "name": "stdout",
     "output_type": "stream",
     "text": [
      "(672, 8)\n",
      "kernel, dataset              m    delta_1  delta_2  C        shots  method  train  nTrials\n",
      "(Havliscek, Generated)       120  0.01     0.10     optimal  1200   gates   exact  10         True\n",
      "(QAOA, SymDonuts)            120  0.10     0.10     optimal  20     gates   exact  10         True\n",
      "(Havliscek,2, Two_Moons)     60   0.01     0.10     optimal  1200   gates   exact  10         True\n",
      "(Circ-Hubr, Two_Moons)       120  0.01     0.01     optimal  100    gates   exact  10         True\n",
      "(Circ-Hubr, SymDonuts)       60   0.10     0.10     optimal  100    gates   exact  10         True\n",
      "                                                                                              ... \n",
      "(Havliscek,2, Checkerboard)  60   0.10     0.01     optimal  20     gates   exact  10         True\n",
      "(Angle,2, SymDonuts)         60   0.01     0.01     optimal  20     gates   exact  10         True\n",
      "(Havliscek,2, Checkerboard)  120  0.10     0.01     optimal  20     gates   exact  10         True\n",
      "(Angle,2, SymDonuts)         120  0.01     0.10     optimal  1200   gates   exact  10         True\n",
      "(Circ-Hubr, Generated)       120  0.10     0.10     optimal  1200   gates   exact  10         True\n",
      "Name: works_primal_1, Length: 672, dtype: bool\n",
      "kernel, dataset              m    delta_1  delta_2  C        shots  method  train  nTrials\n",
      "(Havliscek, Generated)       120  0.01     0.10     optimal  1200   gates   exact  10         True\n",
      "(QAOA, SymDonuts)            120  0.10     0.10     optimal  20     gates   exact  10         True\n",
      "(Havliscek,2, Two_Moons)     60   0.01     0.10     optimal  1200   gates   exact  10         True\n",
      "(Circ-Hubr, Two_Moons)       120  0.01     0.01     optimal  100    gates   exact  10         True\n",
      "(Circ-Hubr, SymDonuts)       60   0.10     0.10     optimal  100    gates   exact  10         True\n",
      "                                                                                              ... \n",
      "(Havliscek,2, Checkerboard)  60   0.10     0.01     optimal  20     gates   exact  10         True\n",
      "(Angle,2, SymDonuts)         60   0.01     0.01     optimal  20     gates   exact  10         True\n",
      "(Havliscek,2, Checkerboard)  120  0.10     0.01     optimal  20     gates   exact  10         True\n",
      "(Angle,2, SymDonuts)         120  0.01     0.10     optimal  1200   gates   exact  10         True\n",
      "(Circ-Hubr, Generated)       120  0.10     0.10     optimal  1200   gates   exact  10         True\n",
      "Name: works_primal_2, Length: 672, dtype: bool\n"
     ]
    }
   ],
   "source": [
    "print(data.shape)\n",
    "print(data[\"works_primal_1\"] == True)\n",
    "print(data[\"works_primal_2\"] == True)"
   ]
  },
  {
   "cell_type": "code",
   "execution_count": 59,
   "id": "dc2be656",
   "metadata": {},
   "outputs": [
    {
     "data": {
      "text/plain": [
       "shots\n",
       "20      0.508800\n",
       "100     0.233909\n",
       "1200    0.000957\n",
       "dtype: float64"
      ]
     },
     "execution_count": 59,
     "metadata": {},
     "output_type": "execute_result"
    }
   ],
   "source": [
    "A = data.beta_1.apply(lambda x: x/np.max(np.abs(x))) - data.beta_2.apply(lambda x: x/np.max(np.abs(x)))\n",
    "A = A.apply(lambda x: np.linalg.norm(x, ord=np.inf))\n",
    "A = A\n",
    "A.groupby(level=\"shots\").mean()\n"
   ]
  },
  {
   "cell_type": "code",
   "execution_count": 54,
   "id": "c924a327",
   "metadata": {},
   "outputs": [
    {
     "data": {
      "text/plain": [
       "kernel, dataset           m   delta_1  delta_2  C        shots  method  train  nTrials\n",
       "(QAOA,2, Two_Moons)       60  0.01     0.10     optimal  20     gates   exact  10         4.325085e-03\n",
       "                                       0.01     optimal  20     gates   exact  10         2.984931e-03\n",
       "(QAOA, Two_Moons)         60  0.10     0.01     optimal  20     gates   exact  10         2.174634e-03\n",
       "                              0.01     0.01     optimal  20     gates   exact  10         2.165548e-03\n",
       "                              0.10     0.10     optimal  20     gates   exact  10         1.621421e-03\n",
       "                                                                                              ...     \n",
       "(Havliscek,2, Two_Moons)  60  0.10     0.01     optimal  1200   gates   exact  10         2.246614e-16\n",
       "(Angle, Two_Moons)        60  0.01     0.10     optimal  1200   gates   exact  10         1.822869e-16\n",
       "(Angle,2, Two_Moons)      60  0.01     0.01     optimal  20     gates   exact  10         1.267506e-16\n",
       "(Circ-Hubr,2, Two_Moons)  60  0.10     0.10     optimal  1200   gates   exact  10         1.024420e-16\n",
       "(Angle, Two_Moons)        60  0.01     0.01     optimal  100    gates   exact  10         7.718021e-17\n",
       "Length: 672, dtype: float64"
      ]
     },
     "execution_count": 54,
     "metadata": {},
     "output_type": "execute_result"
    }
   ],
   "source": [
    "A = data.b_1 - data.b_2\n",
    "B = data.b_1.apply(lambda x: np.abs(x))\n",
    "A = A.apply(lambda x: np.abs(x))\n",
    "A.sort_values(ascending= False)"
   ]
  },
  {
   "cell_type": "code",
   "execution_count": 48,
   "id": "29a966e4",
   "metadata": {},
   "outputs": [
    {
     "data": {
      "text/plain": [
       "kernel, dataset              m    delta_1  delta_2  C        shots  method  train  nTrials\n",
       "(Havliscek, Generated)       120  0.01     0.10     optimal  1200   gates   exact  10         5.171095e-06\n",
       "(QAOA, SymDonuts)            120  0.10     0.10     optimal  20     gates   exact  10         2.465403e-07\n",
       "(Havliscek,2, Two_Moons)     60   0.01     0.10     optimal  1200   gates   exact  10         9.998664e-01\n",
       "(Circ-Hubr, Two_Moons)       120  0.01     0.01     optimal  100    gates   exact  10         9.766038e-01\n",
       "(Circ-Hubr, SymDonuts)       60   0.10     0.10     optimal  100    gates   exact  10         6.368908e-05\n",
       "                                                                                                  ...     \n",
       "(Havliscek,2, Checkerboard)  60   0.10     0.01     optimal  20     gates   exact  10         1.941974e-07\n",
       "(Angle,2, SymDonuts)         60   0.01     0.01     optimal  20     gates   exact  10         3.593811e-08\n",
       "(Havliscek,2, Checkerboard)  120  0.10     0.01     optimal  20     gates   exact  10         7.227043e-05\n",
       "(Angle,2, SymDonuts)         120  0.01     0.10     optimal  1200   gates   exact  10         5.326229e-04\n",
       "(Circ-Hubr, Generated)       120  0.10     0.10     optimal  1200   gates   exact  10         1.091015e-05\n",
       "Length: 672, dtype: float64"
      ]
     },
     "execution_count": 48,
     "metadata": {},
     "output_type": "execute_result"
    }
   ],
   "source": [
    "A"
   ]
  },
  {
   "cell_type": "code",
   "execution_count": null,
   "id": "769507da",
   "metadata": {},
   "outputs": [],
   "source": []
  }
 ],
 "metadata": {
  "kernelspec": {
   "display_name": "Python 3.8.11 64-bit ('base': conda)",
   "language": "python",
   "name": "python3811jvsc74a57bd0637d60a0201bc584ffd547cacb209b6216374709f53a26e63c352df78f981e47"
  },
  "language_info": {
   "codemirror_mode": {
    "name": "ipython",
    "version": 3
   },
   "file_extension": ".py",
   "mimetype": "text/x-python",
   "name": "python",
   "nbconvert_exporter": "python",
   "pygments_lexer": "ipython3",
   "version": "3.8.11"
  },
  "name": "visualize.ipynb"
 },
 "nbformat": 4,
 "nbformat_minor": 5
}
