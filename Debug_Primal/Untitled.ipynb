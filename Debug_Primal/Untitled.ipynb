{
 "cells": [
  {
   "cell_type": "code",
   "execution_count": 2,
   "metadata": {
    "collapsed": false
   },
   "outputs": [],
   "source": [
    "from workscript_utils import *\n",
    "import utils.math_utils as mu\n",
    "import time\n",
    "import cvxpy as cp\n",
    "from exp_utils  import *"
   ]
  },
  {
   "cell_type": "code",
   "execution_count": 3,
   "metadata": {
    "collapsed": false
   },
   "outputs": [],
   "source": [
    "X,y = get_dataset(\"make_circles\")\n",
    "n_qubits= X.shape[1]\n",
    "\n",
    "\n",
    "\n"
   ]
  },
  {
   "cell_type": "code",
   "execution_count": null,
   "metadata": {
    "collapsed": false
   },
   "outputs": [],
   "source": [
    "def kappa(delta):\n",
    "    return np.sqrt(2*np.log(1/delta))\n",
    "def primal_rob_no_dummy(K_star, y_train, delta_1 = 0.1, delta_2 = 0.1, \n",
    "                        C = 1, shots = 20, circuit_type = 'gates', \n",
    "                        sv_threshold = 1e-3, numerical_shift = 1e-3): \n",
    "    g = 1\n",
    "    if circuit_type == 'swap':\n",
    "        g = 2\n",
    "    n = K_star.shape[1]\n",
    "    ##Shifting the kernel to ensure numerical stability of the solver\n",
    "    K_star = K_star + numerical_shift*np.eye(n)\n",
    "    Y=  y_train.reshape(n,1) \n",
    "    beta = cp.Variable((n,1))\n",
    "    v = cp.Variable()\n",
    "    t = cp.Variable()\n",
    "    k1 = cp.Parameter(nonneg=True)\n",
    "    k2 = cp.Parameter(nonneg=True)\n",
    "\n",
    "    loss = cp.sum(cp.pos(1 + k1*t - cp.multiply(Y, K_star @ beta + v)))\n",
    "\n",
    "    socp_constraint = [cp.SOC(t,beta)]\n",
    "    reg1 = cp.quad_form(beta,K_star )\n",
    "    #reg2 = cp.norm(beta, 2)\n",
    "    reg2 = cp.quad_form(beta,np.eye(n))\n",
    "\n",
    "    prob = cp.Problem(cp.Minimize(C*loss + 0.5*reg1 + 0.5*k2* reg2  ), socp_constraint)\n",
    "    k1.value = kappa(delta_1)*(g/np.sqrt(shots))\n",
    "    k2.value = kappa(delta_2)*(g/np.sqrt(shots))\n",
    "    prob.solve()\n",
    "    scaled_beta = np.abs(beta.value)/np.max(np.abs(beta.value))\n",
    "    SV =  [i  for i in range(n) if scaled_beta[i] > sv_threshold ]\n",
    "    return beta.value.flatten(), v.value, SV\n",
    "\n",
    "\n",
    "def primal_rob_(K_star, y_train, delta_1 = 0.1, delta_2 = 0.1, \n",
    "                        C = 1, shots = 20, circuit_type = 'gates', \n",
    "                        sv_threshold = 1e-3, numerical_shift = 1e-4, \n",
    "                          momentum = 0.0, lr = 0.1): \n",
    "    g = 1\n",
    "    if circuit_type == 'swap':\n",
    "        g = 2\n",
    "        \n",
    "    n = K_star.shape[1]\n",
    "    ##Shifting the kernel to ensure numerical stability of the solver\n",
    "    K_star = K_star + numerical_shift*np.eye(n)\n",
    "    Y=  y_train.reshape(n,1) \n",
    "    beta = 0.5*C*np.random.rand(n)\n",
    "    v = np.random.rand()\n",
    "    k1 = kappa(delta_1)*(g/np.sqrt(shots))\n",
    "    k2 = kappa(delta_2)*(g/np.sqrt(shots))\n",
    "   \n",
    "\n",
    "    loss = np.sum(np.max(1 + k1*t - cp.multiply(Y, K_star @ beta + v)))\n",
    "\n",
    "    socp_constraint = [cp.SOC(t,beta)]\n",
    "    reg1 = cp.quad_form(beta,K_star )\n",
    "    #reg2 = cp.norm(beta, 2)\n",
    "    reg2 = cp.quad_form(beta,np.eye(n))\n",
    "\n",
    "    prob = cp.Problem(cp.Minimize(C*loss + 0.5*reg1 + 0.5*k2* reg2  ), socp_constraint)\n",
    "\n",
    "    prob.solve()\n",
    "    scaled_beta = np.abs(beta.value)/np.max(np.abs(beta.value))\n",
    "    SV =  [i  for i in range(n) if scaled_beta[i] > sv_threshold ]\n",
    "    return beta.value.flatten(), v.value, SV\n",
    "\n",
    "def run_rob(args):\n",
    "    key, m, delta_1, delta_2, C, shots, circuit_type, training_type, trials = args\n",
    "\n",
    "    print(f'[JOB {args}]', flush=True)\n",
    "    K_train, y_train = return_kernel(key, m )\n",
    "    print(f\"K[10,1] = {K_train[10,1]}\")\n",
    "    if C  == \"1/sqrt(m)\":\n",
    "        C = 1/np.sqrt(m)\n",
    "\n",
    "    if C == \"optimal\":\n",
    "        C = find_optimal_C(K_train,y_train)\n",
    "\n",
    "    return primal_rob_no_dummy(K_trai"
   ]
  },
  {
   "cell_type": "code",
   "execution_count": 16,
   "metadata": {
    "collapsed": false
   },
   "outputs": [],
   "source": [
    "n, y_train, delta_1 = delta_1,\n",
    "                            delta_2 = delta_2, shots = shots,  circuit_type = circuit_type)\n",
    "\n"
   ]
  },
  {
   "cell_type": "code",
   "execution_count": 20,
   "metadata": {
    "collapsed": false
   },
   "outputs": [
    {
     "name": "stdout",
     "output_type": "stream",
     "text": [
      "[JOB (('Havliscek', 'Generated'), 20, 0.1, 0.1, 1, 20, 'swap', 'exact', 10)]\n"
     ]
    },
    {
     "name": "stdout",
     "output_type": "stream",
     "text": [
      "Generating data:('Havliscek', 'Generated')\n",
      "Data_generated:0.0% , func_val = -0.06466455680795224, balance = 0.0\r",
      "Data_generated:5.0% , func_val = -0.6798161210161509, balance = -0.05\r",
      "Data_generated:5.0% , func_val = -0.2024197299605624, balance = -0.05\r",
      "Data_generated:5.0% , func_val = -0.24121636726686851, balance = -0.05\r",
      "Data_generated:5.0% , func_val = -0.2118770061604438, balance = -0.05\r",
      "Data_generated:5.0% , func_val = -0.6778906406825999, balance = -0.1\r",
      "Data_generated:5.0% , func_val = -0.5499417732639416, balance = -0.1\r",
      "Data_generated:5.0% , func_val = 0.16516889659267076, balance = -0.1\r",
      "Data_generated:5.0% , func_val = -0.1503356052355625, balance = -0.1\r",
      "Data_generated:5.0% , func_val = 0.2228784875454647, balance = -0.1\r",
      "Data_generated:5.0% , func_val = -0.5947405841803376, balance = -0.1\r",
      "Data_generated:5.0% , func_val = -0.44738437392629626, balance = -0.1\r",
      "Data_generated:5.0% , func_val = -0.08685359056260163, balance = -0.1\r",
      "Data_generated:5.0% , func_val = -0.5567048834045947, balance = -0.1\r",
      "Data_generated:5.0% , func_val = -0.10402399599276063, balance = -0.1\r",
      "Data_generated:5.0% , func_val = -0.27660373297353585, balance = -0.1\r",
      "Data_generated:10.0% , func_val = 1.0366920824629537, balance = 0.0\r",
      "Data_generated:10.0% , func_val = 0.01018755566625823, balance = 0.0\r",
      "Data_generated:10.0% , func_val = 0.25310361246072827, balance = 0.0\r",
      "Data_generated:15.0% , func_val = 1.0487407094615133, balance = 0.05\r",
      "Data_generated:20.0% , func_val = -0.5368427542431393, balance = 0.0\r",
      "Data_generated:25.0% , func_val = 0.6133277119785285, balance = 0.05\r",
      "Data_generated:30.0% , func_val = -0.5297207189959525, balance = 0.0\r",
      "Data_generated:35.0% , func_val = -0.32260358629601193, balance = -0.05\r"
     ]
    },
    {
     "name": "stdout",
     "output_type": "stream",
     "text": [
      "Data_generated:35.0% , func_val = -0.6708733035695076, balance = -0.1\r"
     ]
    },
    {
     "name": "stdout",
     "output_type": "stream",
     "text": [
      "Data_generated:35.0% , func_val = -0.18220820317778386, balance = -0.1\r",
      "Data_generated:35.0% , func_val = -0.5533286683590936, balance = -0.1\r",
      "Data_generated:35.0% , func_val = -0.6612072290610874, balance = -0.1\r",
      "Data_generated:40.0% , func_val = 0.3688858447245355, balance = 0.0\r",
      "Data_generated:45.0% , func_val = 0.4312511204893632, balance = 0.05\r",
      "Data_generated:45.0% , func_val = 0.488023788960084, balance = 0.1\r",
      "Data_generated:45.0% , func_val = -0.08077005212818357, balance = 0.1\r",
      "Data_generated:50.0% , func_val = -0.6374334840965279, balance = 0.0\r",
      "Data_generated:50.0% , func_val = -0.18528967905244587, balance = 0.0\r",
      "Data_generated:55.0% , func_val = 0.480539295451935, balance = 0.05\r",
      "Data_generated:55.0% , func_val = 0.21850766927286636, balance = 0.05\r",
      "Data_generated:55.0% , func_val = 0.35009709206563033, balance = 0.1\r",
      "Data_generated:60.0% , func_val = -0.5737651644366815, balance = 0.0\r",
      "Data_generated:60.0% , func_val = 0.00839281746018844, balance = 0.0\r",
      "Data_generated:60.0% , func_val = -0.1372680650293793, balance = 0.0\r",
      "Data_generated:60.0% , func_val = -0.14524023832079822, balance = 0.0\r",
      "Data_generated:65.0% , func_val = 0.852512192421917, balance = 0.05\r",
      "Data_generated:70.0% , func_val = -0.4795684401377609, balance = 0.0\r",
      "Data_generated:70.0% , func_val = 0.12068371826528809, balance = 0.0\r",
      "Data_generated:70.0% , func_val = 0.007897194509054684, balance = 0.0\r",
      "Data_generated:70.0% , func_val = -0.21612369296095696, balance = 0.0\r"
     ]
    },
    {
     "name": "stdout",
     "output_type": "stream",
     "text": [
      "Data_generated:75.0% , func_val = -0.32127741187332476, balance = -0.05\r",
      "Data_generated:75.0% , func_val = -0.3786525341647934, balance = -0.1\r"
     ]
    },
    {
     "name": "stdout",
     "output_type": "stream",
     "text": [
      "Data_generated:75.0% , func_val = -0.3766829575194136, balance = -0.1\r",
      "Data_generated:75.0% , func_val = -0.5527734234337458, balance = -0.1\r",
      "Data_generated:75.0% , func_val = 0.2164604406527767, balance = -0.1\r",
      "Data_generated:75.0% , func_val = -0.23865411832450786, balance = -0.1\r",
      "Data_generated:75.0% , func_val = -0.4545969625039536, balance = -0.1\r",
      "Data_generated:75.0% , func_val = -0.19569813010665105, balance = -0.1\r",
      "Data_generated:75.0% , func_val = -0.6475037107382497, balance = -0.1\r",
      "Data_generated:75.0% , func_val = -0.046116711715394415, balance = -0.1\r",
      "Data_generated:75.0% , func_val = -0.1012774563411081, balance = -0.1\r",
      "Data_generated:80.0% , func_val = 0.3250028957437804, balance = 0.0\r",
      "Data_generated:80.0% , func_val = -0.030187550019171283, balance = 0.0\r",
      "Data_generated:80.0% , func_val = -0.10344938982936847, balance = 0.0\r",
      "Data_generated:80.0% , func_val = -0.19131394141235802, balance = 0.0\r",
      "Data_generated:80.0% , func_val = 0.1969037766016959, balance = 0.0\r",
      "Data_generated:80.0% , func_val = 0.11569993644561855, balance = 0.0\r",
      "Data_generated:80.0% , func_val = -0.030500335807135404, balance = 0.0\r",
      "Data_generated:85.0% , func_val = -0.9682880837256792, balance = -0.05\r",
      "Data_generated:85.0% , func_val = -0.821069476153236, balance = -0.1\r",
      "Data_generated:85.0% , func_val = -0.4818849676296479, balance = -0.1\r",
      "Data_generated:90.0% , func_val = 0.35154359647062183, balance = 0.0\r",
      "Data_generated:90.0% , func_val = -0.21949503198909326, balance = 0.0\r",
      "Data_generated:90.0% , func_val = -0.17768592446162867, balance = 0.0\r",
      "Data_generated:95.0% , func_val = 0.38828973124825966, balance = 0.05\r",
      "Data_generated:100.0% , func_val = -0.6883606345344198, balance = 0.0\r",
      "Data gen finished\n"
     ]
    },
    {
     "name": "stdout",
     "output_type": "stream",
     "text": [
      "K[10,1] = 0.058278627680928466\n"
     ]
    },
    {
     "ename": "ValueError",
     "evalue": "cannot reshape array of size 20 into shape (60,1)",
     "output_type": "error",
     "traceback": [
      "\u001b[0;31m---------------------------------------------------------------------------\u001b[0m",
      "\u001b[0;31mValueError\u001b[0m                                Traceback (most recent call last)",
      "\u001b[0;32m/tmp/ipykernel_1487252/3058844188.py\u001b[0m in \u001b[0;36m<module>\u001b[0;34m\u001b[0m\n\u001b[0;32m----> 1\u001b[0;31m \u001b[0mrun_rob\u001b[0m\u001b[0;34m(\u001b[0m \u001b[0;34m(\u001b[0m\u001b[0;34m(\u001b[0m\u001b[0;34m\"Havliscek\"\u001b[0m\u001b[0;34m,\u001b[0m\u001b[0;34m\"Generated\"\u001b[0m\u001b[0;34m)\u001b[0m\u001b[0;34m,\u001b[0m\u001b[0;36m20\u001b[0m\u001b[0;34m,\u001b[0m \u001b[0;36m0.1\u001b[0m\u001b[0;34m,\u001b[0m \u001b[0;36m0.1\u001b[0m\u001b[0;34m,\u001b[0m \u001b[0;36m1\u001b[0m \u001b[0;34m,\u001b[0m \u001b[0;36m20\u001b[0m\u001b[0;34m,\u001b[0m \u001b[0;34m\"swap\"\u001b[0m\u001b[0;34m,\u001b[0m \u001b[0;34m\"exact\"\u001b[0m\u001b[0;34m,\u001b[0m  \u001b[0;36m10\u001b[0m\u001b[0;34m)\u001b[0m \u001b[0;34m)\u001b[0m\u001b[0;34m\u001b[0m\u001b[0;34m\u001b[0m\u001b[0m\n\u001b[0m",
      "\u001b[0;32m/tmp/ipykernel_1487252/2779813568.py\u001b[0m in \u001b[0;36mrun_rob\u001b[0;34m(args)\u001b[0m\n\u001b[1;32m     81\u001b[0m         \u001b[0mC\u001b[0m \u001b[0;34m=\u001b[0m \u001b[0mfind_optimal_C\u001b[0m\u001b[0;34m(\u001b[0m\u001b[0mK_train\u001b[0m\u001b[0;34m,\u001b[0m\u001b[0my_train\u001b[0m\u001b[0;34m)\u001b[0m\u001b[0;34m\u001b[0m\u001b[0;34m\u001b[0m\u001b[0m\n\u001b[1;32m     82\u001b[0m \u001b[0;34m\u001b[0m\u001b[0m\n\u001b[0;32m---> 83\u001b[0;31m     return primal_rob_no_dummy(K_star, y_train, delta_1 = delta_1,\n\u001b[0m\u001b[1;32m     84\u001b[0m                             delta_2 = delta_2, shots = shots,  circuit_type = circuit_type)\n\u001b[1;32m     85\u001b[0m \u001b[0;34m\u001b[0m\u001b[0m\n",
      "\u001b[0;32m/tmp/ipykernel_1487252/2779813568.py\u001b[0m in \u001b[0;36mprimal_rob_no_dummy\u001b[0;34m(K_star, y_train, delta_1, delta_2, C, shots, circuit_type, sv_threshold, numerical_shift)\u001b[0m\n\u001b[1;32m     14\u001b[0m     \u001b[0;31m##Shifting the kernel to ensure numerical stability of the solver\u001b[0m\u001b[0;34m\u001b[0m\u001b[0;34m\u001b[0m\u001b[0;34m\u001b[0m\u001b[0m\n\u001b[1;32m     15\u001b[0m     \u001b[0mK_star\u001b[0m \u001b[0;34m=\u001b[0m \u001b[0mK_star\u001b[0m \u001b[0;34m+\u001b[0m \u001b[0mnumerical_shift\u001b[0m\u001b[0;34m*\u001b[0m\u001b[0mnp\u001b[0m\u001b[0;34m.\u001b[0m\u001b[0meye\u001b[0m\u001b[0;34m(\u001b[0m\u001b[0mn\u001b[0m\u001b[0;34m)\u001b[0m\u001b[0;34m\u001b[0m\u001b[0;34m\u001b[0m\u001b[0m\n\u001b[0;32m---> 16\u001b[0;31m     \u001b[0mY\u001b[0m\u001b[0;34m=\u001b[0m  \u001b[0my_train\u001b[0m\u001b[0;34m.\u001b[0m\u001b[0mreshape\u001b[0m\u001b[0;34m(\u001b[0m\u001b[0mn\u001b[0m\u001b[0;34m,\u001b[0m\u001b[0;36m1\u001b[0m\u001b[0;34m)\u001b[0m\u001b[0;34m\u001b[0m\u001b[0;34m\u001b[0m\u001b[0m\n\u001b[0m\u001b[1;32m     17\u001b[0m     \u001b[0mbeta\u001b[0m \u001b[0;34m=\u001b[0m \u001b[0mcp\u001b[0m\u001b[0;34m.\u001b[0m\u001b[0mVariable\u001b[0m\u001b[0;34m(\u001b[0m\u001b[0;34m(\u001b[0m\u001b[0mn\u001b[0m\u001b[0;34m,\u001b[0m\u001b[0;36m1\u001b[0m\u001b[0;34m)\u001b[0m\u001b[0;34m)\u001b[0m\u001b[0;34m\u001b[0m\u001b[0;34m\u001b[0m\u001b[0m\n\u001b[1;32m     18\u001b[0m     \u001b[0mv\u001b[0m \u001b[0;34m=\u001b[0m \u001b[0mcp\u001b[0m\u001b[0;34m.\u001b[0m\u001b[0mVariable\u001b[0m\u001b[0;34m(\u001b[0m\u001b[0;34m)\u001b[0m\u001b[0;34m\u001b[0m\u001b[0;34m\u001b[0m\u001b[0m\n",
      "\u001b[0;31mValueError\u001b[0m: cannot reshape array of size 20 into shape (60,1)"
     ]
    }
   ],
   "source": [
    "run_rob( ((\"Havliscek\",\"Generated\"),20, 0.1, 0.1, 1 , 20, \"swap\", \"exact\",  10) )"
   ]
  },
  {
   "cell_type": "code",
   "execution_count": 5,
   "metadata": {
    "collapsed": false
   },
   "outputs": [
    {
     "name": "stdout",
     "output_type": "stream",
     "text": [
      "[Quantum case] Time taken for evaluating training kernel: 6.785682201385498\n"
     ]
    },
    {
     "name": "stdout",
     "output_type": "stream",
     "text": [
      "[Quantum Case] Time taken for evaluating test-train kernel: 31.658611297607422\n",
      "[Gaussian case] Total time to evaluate both train and test-train kernel: 0.13519525527954102\n",
      "-1.8267256385831218e-15\n",
      "8.074526725039671e-17\n"
     ]
    }
   ],
   "source": [
    "node = create_device(\"havlicek\",n_qubits=n_qubits)\n",
    "K_star,K_star_test_train,y_train,y_test = evaluate_kernel(X,y,node)\n",
    "K_gauss,K_gauss_test_train = evaluate_kernel(X,y,\"gaussian\")\n",
    "print(mu.eigmin(K_star))\n",
    "print(mu.eigmin(K_gauss))"
   ]
  },
  {
   "cell_type": "code",
   "execution_count": 8,
   "metadata": {
    "collapsed": false
   },
   "outputs": [
    {
     "name": "stdout",
     "output_type": "stream",
     "text": [
      "time taken: 0.05143451690673828\n",
      "beta_1: [-5.000e-01 -5.000e-01  5.000e-01  4.171e-05 -5.000e-01  5.000e-01\n",
      " -5.000e-01 -5.000e-01 -5.000e-01  5.000e-01 -1.429e-01 -5.000e-01\n",
      "  5.000e-01 -5.000e-01  5.000e-01 -5.000e-01 -1.570e-05  5.000e-01\n",
      " -5.000e-01  5.000e-01 -5.000e-01  5.000e-01 -5.000e-01 -5.000e-01\n",
      "  5.000e-01  5.000e-01  5.000e-01 -5.000e-01  5.000e-01  8.729e-05\n",
      " -5.000e-01  5.000e-01  5.000e-01  5.000e-01  5.440e-05 -5.000e-01\n",
      " -5.000e-01  5.000e-01 -5.000e-01  4.165e-01  5.000e-01 -5.000e-01\n",
      " -3.771e-01  5.000e-01 -2.593e-06  5.000e-01 -5.000e-01  5.000e-01\n",
      "  5.000e-01  5.000e-01 -5.000e-01  1.675e-01  5.000e-01  5.594e-02\n",
      " -5.000e-01  3.800e-01 -5.000e-01  5.000e-01 -5.000e-01 -5.000e-01] b_1 -0.49335604923643445\n",
      "beta_3: [0.5   0.5   0.5   0.    0.5   0.5   0.5   0.5   0.5   0.5   0.132 0.5\n",
      " 0.5   0.5   0.5   0.5   0.    0.5   0.5   0.5   0.5   0.5   0.5   0.5\n",
      " 0.5   0.5   0.5   0.5   0.5   0.    0.5   0.5   0.5   0.5   0.    0.5\n",
      " 0.5   0.5   0.5   0.418 0.5   0.5   0.389 0.5   0.    0.5   0.5   0.5\n",
      " 0.5   0.5   0.5   0.167 0.5   0.053 0.5   0.382 0.5   0.5   0.5   0.5  ] b_3 [-0.493]\n",
      "0.011970404271529234\n"
     ]
    }
   ],
   "source": [
    "start=time.time()\n",
    "beta_1,b_1,SV1 = primal_rob_no_dummy(K_star, y_train, delta_1 = 1.0, delta_2 = 1.0, C =0.5, numerical_shift = 1e-3)\n",
    "#beta_2,b_2,SV2 = nominal_classifier(K_star,y_train,svm_type=\"dual\",C=1);print(\"time taken:\",time.time()-start);start=time.time()\n",
    "beta_3,b_3,SV3 = nominal_classifier(K_star,y_train,svm_type=\"SVC\",C=0.5);print(\"time taken:\",time.time()-start);start=time.time()\n",
    "\n",
    "\n",
    "print(\"beta_1:\",beta_1,\"b_1\",b_1)\n",
    "#print(\"beta_2:\",beta_2,\"b_2\",b_2)\n",
    "print(\"beta_3:\",beta_3,\"b_3\",b_3)\n",
    "print( np.linalg.norm(beta_1 - y_train*beta_3, np.inf))"
   ]
  },
  {
   "cell_type": "code",
   "execution_count": 83,
   "metadata": {
    "collapsed": false
   },
   "outputs": [
    {
     "data": {
      "text/plain": [
       "(array([1.188e-16, 4.378e-15, 1.210e-13, 2.870e-13, 1.588e-12, 1.020e-11,\n",
       "        1.591e-10, 4.160e-10, 6.241e-10, 1.307e-09, 1.819e-09, 1.799e-08,\n",
       "        2.928e-08, 6.700e-08, 1.346e-07, 2.573e-07, 3.586e-07, 1.031e-06,\n",
       "        1.275e-06, 5.851e-06, 1.015e-05, 2.180e-05, 2.516e-05, 4.834e-05,\n",
       "        6.517e-05, 1.393e-04, 2.758e-04, 3.598e-04, 6.494e-04, 1.134e-03,\n",
       "        1.539e-03, 2.670e-03, 3.835e-03, 6.207e-03, 8.959e-03, 1.086e-02,\n",
       "        1.507e-02, 2.949e-02, 3.689e-02, 4.114e-02, 5.658e-02, 8.142e-02,\n",
       "        9.760e-02, 1.552e-01, 1.886e-01, 2.428e-01, 3.017e-01, 4.328e-01,\n",
       "        5.068e-01, 5.741e-01, 6.785e-01, 1.221e+00, 1.479e+00, 2.873e+00,\n",
       "        3.225e+00, 5.280e+00, 7.108e+00, 9.334e+00, 1.112e+01, 1.489e+01]),\n",
       " array([[ 0.000e+00, -1.421e-03, -2.827e-03, ..., -1.051e-02,  1.580e-01,\n",
       "         -1.802e-01],\n",
       "        [-3.024e-07,  4.697e-06,  2.630e-06, ..., -1.596e-02, -1.800e-01,\n",
       "         -8.733e-02],\n",
       "        [ 1.043e-06, -9.855e-07, -4.289e-05, ..., -2.517e-01,  1.589e-04,\n",
       "         -1.544e-02],\n",
       "        ...,\n",
       "        [-9.357e-07,  1.372e-06,  3.806e-05, ..., -2.712e-01, -1.029e-02,\n",
       "         -1.359e-02],\n",
       "        [ 1.006e-07, -1.235e-06, -1.839e-06, ..., -2.022e-01, -3.938e-02,\n",
       "         -1.124e-02],\n",
       "        [ 2.144e-05, -2.858e-04, -6.462e-04, ..., -2.609e-01, -1.991e-02,\n",
       "         -9.908e-03]]))"
      ]
     },
     "execution_count": 83,
     "metadata": {},
     "output_type": "execute_result"
    }
   ],
   "source": [
    "np.linalg.eigh(K_gauss)"
   ]
  },
  {
   "cell_type": "code",
   "execution_count": 100,
   "metadata": {
    "collapsed": false
   },
   "outputs": [
    {
     "data": {
      "text/plain": [
       "16.038461060284348"
      ]
     },
     "execution_count": 100,
     "metadata": {},
     "output_type": "execute_result"
    }
   ],
   "source": [
    "Y =  y_train.reshape(60,1)\n",
    "X = K_star \n",
    "C = 1\n",
    "import cvxpy as cp\n",
    "beta = cp.Variable((n,1))\n",
    "v = cp.Variable()\n",
    "loss = cp.sum(cp.pos(1 - cp.multiply(Y, X @ beta - v)))\n",
    "#reg = cp.norm(beta, 2)\n",
    "reg = cp.quad_form(beta,X)\n",
    "#reg = cp.quad_form(beta,np.eye(n))\n",
    "lambd = cp.Parameter(nonneg=True)\n",
    "prob = cp.Problem(cp.Minimize(C*loss + 0.5*reg))\n",
    "prob.solve()\n"
   ]
  },
  {
   "cell_type": "code",
   "execution_count": 117,
   "metadata": {
    "collapsed": false
   },
   "outputs": [
    {
     "data": {
      "text/plain": [
       "18.171000876608794"
      ]
     },
     "execution_count": 117,
     "metadata": {},
     "output_type": "execute_result"
    }
   ],
   "source": [
    "\n",
    "\n",
    "\n",
    "Y =  y_train.reshape(60,1)\n",
    "X = K_star \n",
    "C = 1\n",
    "import cvxpy as cp\n",
    "beta = cp.Variable((n,1))\n",
    "v = cp.Variable()\n",
    "t = cp.Variable()\n",
    "#k1 = cp.Parameter(nonneg=True)\n",
    "k1 = 0.1\n",
    "k2 = 0.0\n",
    "loss = cp.sum(cp.pos(1 + k1*t - cp.multiply(Y, X @ beta + v)))\n",
    "\n",
    "socp_constraint = [cp.SOC(t,beta)]\n",
    "#constraint = [t >= 0  ]\n",
    "#reg = cp.norm(beta, 2)\n",
    "reg = cp.quad_form(beta,X + k2*np.eye(n))\n",
    "#reg = cp.quad_form(beta,np.eye(n))\n",
    "\n",
    "prob = cp.Problem(cp.Minimize(C*loss + 0.5*reg), socp_constraint)\n",
    "prob.solve()"
   ]
  },
  {
   "cell_type": "code",
   "execution_count": 118,
   "metadata": {
    "collapsed": false
   },
   "outputs": [
    {
     "data": {
      "text/plain": [
       "array(0.879)"
      ]
     },
     "execution_count": 118,
     "metadata": {},
     "output_type": "execute_result"
    }
   ],
   "source": [
    "t.value"
   ]
  },
  {
   "cell_type": "code",
   "execution_count": 119,
   "metadata": {
    "collapsed": false
   },
   "outputs": [
    {
     "data": {
      "text/plain": [
       "0.8792826626399073"
      ]
     },
     "execution_count": 119,
     "metadata": {},
     "output_type": "execute_result"
    }
   ],
   "source": [
    "np.linalg.norm(beta.value)"
   ]
  },
  {
   "cell_type": "code",
   "execution_count": null,
   "metadata": {
    "collapsed": false
   },
   "outputs": [],
   "source": []
  }
 ],
 "metadata": {
  "kernelspec": {
   "argv": [
    "python",
    "-m",
    "ipykernel_launcher",
    "-f",
    "{connection_file}"
   ],
   "display_name": "Python 3 (ipykernel)",
   "env": null,
   "interrupt_mode": "signal",
   "language": "python",
   "metadata": {
    "debugger": true
   },
   "name": "python3"
  },
  "language_info": {
   "codemirror_mode": {
    "name": "ipython",
    "version": 3
   },
   "file_extension": ".py",
   "mimetype": "text/x-python",
   "name": "python",
   "nbconvert_exporter": "python",
   "pygments_lexer": "ipython3",
   "version": "3.8.11"
  },
  "name": "Untitled.ipynb"
 },
 "nbformat": 4,
 "nbformat_minor": 4
}
